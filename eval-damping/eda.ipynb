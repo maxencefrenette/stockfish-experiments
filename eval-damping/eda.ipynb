{
 "cells": [
  {
   "cell_type": "code",
   "execution_count": 94,
   "metadata": {},
   "outputs": [],
   "source": [
    "import pandas as pd\n",
    "import matplotlib as plt\n",
    "import seaborn as sns\n",
    "import statsmodels.api as sm\n",
    "import statsmodels.formula.api as smf\n"
   ]
  },
  {
   "cell_type": "code",
   "execution_count": 95,
   "metadata": {},
   "outputs": [
    {
     "data": {
      "text/html": [
       "<div>\n",
       "<style scoped>\n",
       "    .dataframe tbody tr th:only-of-type {\n",
       "        vertical-align: middle;\n",
       "    }\n",
       "\n",
       "    .dataframe tbody tr th {\n",
       "        vertical-align: top;\n",
       "    }\n",
       "\n",
       "    .dataframe thead th {\n",
       "        text-align: right;\n",
       "    }\n",
       "</style>\n",
       "<table border=\"1\" class=\"dataframe\">\n",
       "  <thead>\n",
       "    <tr style=\"text-align: right;\">\n",
       "      <th></th>\n",
       "      <th>Unnamed: 0</th>\n",
       "      <th>position</th>\n",
       "      <th>shallow_eval</th>\n",
       "      <th>shuffling</th>\n",
       "      <th>non_pawn_material</th>\n",
       "      <th>pawns</th>\n",
       "      <th>deep_eval</th>\n",
       "    </tr>\n",
       "  </thead>\n",
       "  <tbody>\n",
       "    <tr>\n",
       "      <th>0</th>\n",
       "      <td>0</td>\n",
       "      <td>b1kr3r/p1pp1pbp/1pn1pq2/6p1/3PP3/1PN2N1P/P1P1Q...</td>\n",
       "      <td>-270</td>\n",
       "      <td>3</td>\n",
       "      <td>14998</td>\n",
       "      <td>16</td>\n",
       "      <td>-17</td>\n",
       "    </tr>\n",
       "    <tr>\n",
       "      <th>1</th>\n",
       "      <td>1</td>\n",
       "      <td>r2q1rk1/1b2bppp/pp6/n1p1N3/P3nB2/2P4P/BP3PP1/R...</td>\n",
       "      <td>-449</td>\n",
       "      <td>1</td>\n",
       "      <td>16604</td>\n",
       "      <td>12</td>\n",
       "      <td>92</td>\n",
       "    </tr>\n",
       "    <tr>\n",
       "      <th>2</th>\n",
       "      <td>2</td>\n",
       "      <td>r3k2r/1bq1bppp/pp1p1n2/n1p1p3/P3P2P/2PPBN2/BP1...</td>\n",
       "      <td>-207</td>\n",
       "      <td>0</td>\n",
       "      <td>16604</td>\n",
       "      <td>16</td>\n",
       "      <td>-10</td>\n",
       "    </tr>\n",
       "    <tr>\n",
       "      <th>3</th>\n",
       "      <td>3</td>\n",
       "      <td>r1b1kr2/pp4bp/1np2pp1/8/1P6/P3PN2/BB3PPP/3R1RK...</td>\n",
       "      <td>476</td>\n",
       "      <td>5</td>\n",
       "      <td>9966</td>\n",
       "      <td>12</td>\n",
       "      <td>237</td>\n",
       "    </tr>\n",
       "    <tr>\n",
       "      <th>4</th>\n",
       "      <td>4</td>\n",
       "      <td>r1b1k2r/1p1pbppp/p3p1n1/q1pP4/2P5/B1N5/P3BPPP/...</td>\n",
       "      <td>1029</td>\n",
       "      <td>2</td>\n",
       "      <td>15042</td>\n",
       "      <td>14</td>\n",
       "      <td>-520</td>\n",
       "    </tr>\n",
       "  </tbody>\n",
       "</table>\n",
       "</div>"
      ],
      "text/plain": [
       "   Unnamed: 0                                           position  \\\n",
       "0           0  b1kr3r/p1pp1pbp/1pn1pq2/6p1/3PP3/1PN2N1P/P1P1Q...   \n",
       "1           1  r2q1rk1/1b2bppp/pp6/n1p1N3/P3nB2/2P4P/BP3PP1/R...   \n",
       "2           2  r3k2r/1bq1bppp/pp1p1n2/n1p1p3/P3P2P/2PPBN2/BP1...   \n",
       "3           3  r1b1kr2/pp4bp/1np2pp1/8/1P6/P3PN2/BB3PPP/3R1RK...   \n",
       "4           4  r1b1k2r/1p1pbppp/p3p1n1/q1pP4/2P5/B1N5/P3BPPP/...   \n",
       "\n",
       "   shallow_eval  shuffling  non_pawn_material  pawns  deep_eval  \n",
       "0          -270          3              14998     16        -17  \n",
       "1          -449          1              16604     12         92  \n",
       "2          -207          0              16604     16        -10  \n",
       "3           476          5               9966     12        237  \n",
       "4          1029          2              15042     14       -520  "
      ]
     },
     "execution_count": 95,
     "metadata": {},
     "output_type": "execute_result"
    }
   ],
   "source": [
    "data = pd.read_csv('data/damping_with_evals.csv')\n",
    "data.head()\n"
   ]
  },
  {
   "cell_type": "code",
   "execution_count": 96,
   "metadata": {},
   "outputs": [],
   "source": [
    "# Data wrangling\n",
    "data.drop(data.loc[(data.shallow_eval == 0) & (data.deep_eval == 0)].index, inplace=True)\n",
    "data['damping_ratio'] = data.deep_eval / data.shallow_eval\n",
    "data.damping_ratio = data.damping_ratio.clip(lower=-2, upper=2)\n"
   ]
  },
  {
   "cell_type": "code",
   "execution_count": 97,
   "metadata": {},
   "outputs": [
    {
     "data": {
      "text/html": [
       "<div>\n",
       "<style scoped>\n",
       "    .dataframe tbody tr th:only-of-type {\n",
       "        vertical-align: middle;\n",
       "    }\n",
       "\n",
       "    .dataframe tbody tr th {\n",
       "        vertical-align: top;\n",
       "    }\n",
       "\n",
       "    .dataframe thead th {\n",
       "        text-align: right;\n",
       "    }\n",
       "</style>\n",
       "<table border=\"1\" class=\"dataframe\">\n",
       "  <thead>\n",
       "    <tr style=\"text-align: right;\">\n",
       "      <th></th>\n",
       "      <th>Unnamed: 0</th>\n",
       "      <th>shallow_eval</th>\n",
       "      <th>shuffling</th>\n",
       "      <th>non_pawn_material</th>\n",
       "      <th>pawns</th>\n",
       "      <th>deep_eval</th>\n",
       "      <th>damping_ratio</th>\n",
       "    </tr>\n",
       "  </thead>\n",
       "  <tbody>\n",
       "    <tr>\n",
       "      <th>count</th>\n",
       "      <td>943.000000</td>\n",
       "      <td>943.000000</td>\n",
       "      <td>943.000000</td>\n",
       "      <td>943.000000</td>\n",
       "      <td>943.000000</td>\n",
       "      <td>943.000000</td>\n",
       "      <td>943.000000</td>\n",
       "    </tr>\n",
       "    <tr>\n",
       "      <th>mean</th>\n",
       "      <td>7602.635207</td>\n",
       "      <td>190.186638</td>\n",
       "      <td>3.959703</td>\n",
       "      <td>1415.512195</td>\n",
       "      <td>4.316013</td>\n",
       "      <td>58.698834</td>\n",
       "      <td>0.020473</td>\n",
       "    </tr>\n",
       "    <tr>\n",
       "      <th>std</th>\n",
       "      <td>3812.646387</td>\n",
       "      <td>1288.077977</td>\n",
       "      <td>9.289658</td>\n",
       "      <td>641.147938</td>\n",
       "      <td>3.138662</td>\n",
       "      <td>1526.854813</td>\n",
       "      <td>0.663738</td>\n",
       "    </tr>\n",
       "    <tr>\n",
       "      <th>min</th>\n",
       "      <td>247.000000</td>\n",
       "      <td>-3416.000000</td>\n",
       "      <td>0.000000</td>\n",
       "      <td>0.000000</td>\n",
       "      <td>0.000000</td>\n",
       "      <td>-31999.000000</td>\n",
       "      <td>-2.000000</td>\n",
       "    </tr>\n",
       "    <tr>\n",
       "      <th>25%</th>\n",
       "      <td>4503.500000</td>\n",
       "      <td>-472.500000</td>\n",
       "      <td>0.000000</td>\n",
       "      <td>825.000000</td>\n",
       "      <td>2.000000</td>\n",
       "      <td>-116.000000</td>\n",
       "      <td>-0.287888</td>\n",
       "    </tr>\n",
       "    <tr>\n",
       "      <th>50%</th>\n",
       "      <td>7662.000000</td>\n",
       "      <td>22.000000</td>\n",
       "      <td>1.000000</td>\n",
       "      <td>1606.000000</td>\n",
       "      <td>4.000000</td>\n",
       "      <td>8.000000</td>\n",
       "      <td>0.036866</td>\n",
       "    </tr>\n",
       "    <tr>\n",
       "      <th>75%</th>\n",
       "      <td>10879.000000</td>\n",
       "      <td>1053.000000</td>\n",
       "      <td>3.000000</td>\n",
       "      <td>2057.000000</td>\n",
       "      <td>7.000000</td>\n",
       "      <td>407.500000</td>\n",
       "      <td>0.307177</td>\n",
       "    </tr>\n",
       "    <tr>\n",
       "      <th>max</th>\n",
       "      <td>14576.000000</td>\n",
       "      <td>4043.000000</td>\n",
       "      <td>97.000000</td>\n",
       "      <td>2431.000000</td>\n",
       "      <td>14.000000</td>\n",
       "      <td>31999.000000</td>\n",
       "      <td>2.000000</td>\n",
       "    </tr>\n",
       "  </tbody>\n",
       "</table>\n",
       "</div>"
      ],
      "text/plain": [
       "         Unnamed: 0  shallow_eval   shuffling  non_pawn_material       pawns  \\\n",
       "count    943.000000    943.000000  943.000000         943.000000  943.000000   \n",
       "mean    7602.635207    190.186638    3.959703        1415.512195    4.316013   \n",
       "std     3812.646387   1288.077977    9.289658         641.147938    3.138662   \n",
       "min      247.000000  -3416.000000    0.000000           0.000000    0.000000   \n",
       "25%     4503.500000   -472.500000    0.000000         825.000000    2.000000   \n",
       "50%     7662.000000     22.000000    1.000000        1606.000000    4.000000   \n",
       "75%    10879.000000   1053.000000    3.000000        2057.000000    7.000000   \n",
       "max    14576.000000   4043.000000   97.000000        2431.000000   14.000000   \n",
       "\n",
       "          deep_eval  damping_ratio  \n",
       "count    943.000000     943.000000  \n",
       "mean      58.698834       0.020473  \n",
       "std     1526.854813       0.663738  \n",
       "min   -31999.000000      -2.000000  \n",
       "25%     -116.000000      -0.287888  \n",
       "50%        8.000000       0.036866  \n",
       "75%      407.500000       0.307177  \n",
       "max    31999.000000       2.000000  "
      ]
     },
     "execution_count": 97,
     "metadata": {},
     "output_type": "execute_result"
    }
   ],
   "source": [
    "data.describe()\n"
   ]
  },
  {
   "cell_type": "code",
   "execution_count": 98,
   "metadata": {},
   "outputs": [
    {
     "data": {
      "text/plain": [
       "<Axes: >"
      ]
     },
     "execution_count": 98,
     "metadata": {},
     "output_type": "execute_result"
    },
    {
     "data": {
      "image/png": "[encoded data removed]",
      "text/plain": [
       "<Figure size 640x480 with 1 Axes>"
      ]
     },
     "metadata": {},
     "output_type": "display_data"
    }
   ],
   "source": [
    "# Make a chart of the distribution of shuffling values\n",
    "data['shuffling'].hist(bins=100)\n"
   ]
  },
  {
   "cell_type": "code",
   "execution_count": 99,
   "metadata": {},
   "outputs": [
    {
     "data": {
      "text/plain": [
       "<Axes: xlabel='shuffling', ylabel='value'>"
      ]
     },
     "execution_count": 99,
     "metadata": {},
     "output_type": "execute_result"
    },
    {
     "data": {
      "image/png": "[encoded data removed]",
      "text/plain": [
       "<Figure size 640x480 with 1 Axes>"
      ]
     },
     "metadata": {},
     "output_type": "display_data"
    }
   ],
   "source": [
    "# Box and whisker plot of damping_ratio per shuffling values\n",
    "boxplot_df = data.melt(\n",
    "    id_vars=[\"shuffling\"], value_vars=[\"damping_ratio\"]\n",
    ")\n",
    "\n",
    "sns.boxplot(x=\"shuffling\", y=\"value\", data=boxplot_df)\n"
   ]
  },
  {
   "cell_type": "code",
   "execution_count": 100,
   "metadata": {},
   "outputs": [
    {
     "name": "stdout",
     "output_type": "stream",
     "text": [
      "                            OLS Regression Results                            \n",
      "==============================================================================\n",
      "Dep. Variable:          damping_ratio   R-squared:                       0.002\n",
      "Model:                            OLS   Adj. R-squared:                 -0.002\n",
      "Method:                 Least Squares   F-statistic:                    0.5083\n",
      "Date:                Sat, 02 Dec 2023   Prob (F-statistic):              0.677\n",
      "Time:                        12:18:56   Log-Likelihood:                -950.29\n",
      "No. Observations:                 943   AIC:                             1909.\n",
      "Df Residuals:                     939   BIC:                             1928.\n",
      "Df Model:                           3                                         \n",
      "Covariance Type:            nonrobust                                         \n",
      "===============================================================================================\n",
      "                                  coef    std err          t      P>|t|      [0.025      0.975]\n",
      "-----------------------------------------------------------------------------------------------\n",
      "Intercept                       0.0585      0.056      1.053      0.292      -0.050       0.167\n",
      "shuffling                       0.0055      0.008      0.656      0.512      -0.011       0.022\n",
      "non_pawn_material           -2.935e-05   3.56e-05     -0.825      0.410   -9.92e-05    4.05e-05\n",
      "shuffling:non_pawn_material -2.809e-06   4.35e-06     -0.645      0.519   -1.14e-05    5.73e-06\n",
      "==============================================================================\n",
      "Omnibus:                       78.359   Durbin-Watson:                   1.985\n",
      "Prob(Omnibus):                  0.000   Jarque-Bera (JB):              412.238\n",
      "Skew:                          -0.099   Prob(JB):                     3.04e-90\n",
      "Kurtosis:                       6.233   Cond. No.                     4.93e+04\n",
      "==============================================================================\n",
      "\n",
      "Notes:\n",
      "[1] Standard Errors assume that the covariance matrix of the errors is correctly specified.\n",
      "[2] The condition number is large, 4.93e+04. This might indicate that there are\n",
      "strong multicollinearity or other numerical problems.\n"
     ]
    }
   ],
   "source": [
    "# Fit a linear model to the data\n",
    "results = smf.ols('damping_ratio ~ shuffling + non_pawn_material + shuffling*non_pawn_material', data=data).fit()\n",
    "print(results.summary())\n"
   ]
  }
 ],
 "metadata": {
  "kernelspec": {
   "display_name": "Python 3",
   "language": "python",
   "name": "python3"
  },
  "language_info": {
   "codemirror_mode": {
    "name": "ipython",
    "version": 3
   },
   "file_extension": ".py",
   "mimetype": "text/x-python",
   "name": "python",
   "nbconvert_exporter": "python",
   "pygments_lexer": "ipython3",
   "version": "3.12.0"
  }
 },
 "nbformat": 4,
 "nbformat_minor": 2
}
